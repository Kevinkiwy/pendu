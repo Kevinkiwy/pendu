{
 "cells": [
  {
   "cell_type": "markdown",
   "metadata": {},
   "source": [
    "<h1><center>Code pour le jeu du pendu</center></h1>"
   ]
  },
  {
   "cell_type": "code",
   "execution_count": null,
   "metadata": {},
   "outputs": [],
   "source": [
    "from faker import Faker     #Faker genere mot aleatoire\n",
    "\n",
    "def lettres_positions(mot):\n",
    "    dico = {}\n",
    "    for index, lettre in enumerate(mot):\n",
    "        if lettre in dico:\n",
    "            dico[lettre].append(index)  # Ajouter position si lettre déjà dans dico\n",
    "        else:\n",
    "            dico[lettre] = [index]  # Créer une nouvelle liste avec la position\n",
    "    return dico\n",
    "\n",
    "def pendu():\n",
    "    fautes = 0\n",
    "    lettres_pas_bon = []\n",
    "    generer_mot_aleatoire = Faker(['fr_FR'])    #genere que mot francais aleatoire\n",
    "    mot_inconnu = generer_mot_aleatoire.word()\n",
    "    mot_à_remplir= ['?' for x in range (len(mot_inconnu))]\n",
    "    dico_lettres_positions = lettres_positions(mot_inconnu)\n",
    "\n",
    "    #LALALALA\n",
    "    "
   ]
  },
  {
   "cell_type": "code",
   "execution_count": 6,
   "metadata": {},
   "outputs": [
    {
     "name": "stdout",
     "output_type": "stream",
     "text": [
      "silencieux ['?', '?', '?', '?', '?', '?', '?', '?', '?', '?']\n"
     ]
    }
   ],
   "source": [
    "from faker import Faker\n",
    "generer_mot_aleatoire = Faker(['fr_FR'])\n",
    "mot_inconnu = generer_mot_aleatoire.word()\n",
    "mot_à_remplir= ['?' for x in range (len(mot_inconnu))]\n",
    "print(mot_inconnu,mot_à_remplir)\n"
   ]
  },
  {
   "cell_type": "code",
   "execution_count": 18,
   "metadata": {},
   "outputs": [
    {
     "name": "stdout",
     "output_type": "stream",
     "text": [
      "{'p': [0], 'e': [1, 5], 'r': [2, 4], 'd': [3]}\n"
     ]
    }
   ],
   "source": [
    "generer_mot_aleatoire = Faker(['fr_FR'])    #genere que mot francais aleatoire\n",
    "mot_inconnu = generer_mot_aleatoire.word()\n",
    "mot_à_remplir= ['?' for x in range (len(mot_inconnu))]\n",
    "dico_lettres_positions = lettres_positions(mot_inconnu)\n",
    "\n",
    "def lettres_positions(mot):\n",
    "    dico = {}\n",
    "    for index, lettre in enumerate(mot):\n",
    "        if lettre in dico:\n",
    "            dico[lettre].append(index)  # Ajouter position si lettre déjà dans dico\n",
    "        else:\n",
    "            dico[lettre] = [index]  # Créer une nouvelle liste avec la position\n",
    "    return dico\n",
    "\n",
    "print(lettres_positions(mot_inconnu))"
   ]
  }
 ],
 "metadata": {
  "kernelspec": {
   "display_name": "Python 3",
   "language": "python",
   "name": "python3"
  },
  "language_info": {
   "codemirror_mode": {
    "name": "ipython",
    "version": 3
   },
   "file_extension": ".py",
   "mimetype": "text/x-python",
   "name": "python",
   "nbconvert_exporter": "python",
   "pygments_lexer": "ipython3",
   "version": "3.12.6"
  }
 },
 "nbformat": 4,
 "nbformat_minor": 2
}

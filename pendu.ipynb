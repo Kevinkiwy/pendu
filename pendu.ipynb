{
 "cells": [
  {
   "cell_type": "markdown",
   "metadata": {},
   "source": [
    "<h1><center>Code pour le jeu du pendu</center></h1>"
   ]
  },
  {
   "cell_type": "code",
   "execution_count": 1,
   "metadata": {},
   "outputs": [],
   "source": [
    "import random     #Faker genere mot aleatoire\n",
    "\n",
    "liste_de_mots= []\n",
    "\n",
    "\n",
    "def lettres_positions(mot):\n",
    "    dico = {}\n",
    "    for index, lettre in enumerate(mot):\n",
    "        if lettre in dico:\n",
    "            dico[lettre].append(index)  # Ajouter position si lettre déjà dans dico\n",
    "        else:\n",
    "            dico[lettre] = [index]  # Créer une nouvelle liste avec la position\n",
    "    return dico\n",
    "\n",
    "def pendu():\n",
    "    fautes = 0\n",
    "    lettres_pas_bon = []\n",
    "    generer_mot_aleatoire = Faker(['fr_FR'])    #genere que mot francais aleatoire\n",
    "    mot_inconnu = generer_mot_aleatoire.word()\n",
    "    mot_à_remplir= ['*' for x in range (len(mot_inconnu))]\n",
    "    dico_lettres_positions = lettres_positions(mot_inconnu)\n",
<<<<<<< HEAD
=======
    "\n",
    "    \n",
>>>>>>> 2e21f0b4d02a29a46683111d4652c52371fd7899
    "    "
   ]
  },
  {
   "cell_type": "code",
<<<<<<< HEAD
   "execution_count": 11,
=======
   "execution_count": 2,
>>>>>>> 2e21f0b4d02a29a46683111d4652c52371fd7899
   "metadata": {},
   "outputs": [
    {
     "name": "stdout",
     "output_type": "stream",
     "text": [
<<<<<<< HEAD
      "attaquer ['?', '?', '?', '?', '?', '?', '?', '?']\n"
=======
      "soudain ['?', '?', '?', '?', '?', '?', '?']\n"
>>>>>>> 2e21f0b4d02a29a46683111d4652c52371fd7899
     ]
    }
   ],
   "source": [
    "from faker import Faker\n",
    "generer_mot_aleatoire = Faker(['fr_FR'])\n",
    "mot_inconnu = generer_mot_aleatoire.word()\n",
    "mot_à_remplir= ['?' for x in range (len(mot_inconnu))]\n",
    "print(mot_inconnu,mot_à_remplir)\n"
   ]
  },
  {
   "cell_type": "code",
   "execution_count": 3,
   "metadata": {},
   "outputs": [
    {
     "name": "stdout",
     "output_type": "stream",
     "text": [
      "{'c': [0], 'o': [1], 'i': [2], 'n': [3]}\n"
     ]
    }
   ],
   "source": [
    "generer_mot_aleatoire = Faker(['fr_FR'])    #genere que mot francais aleatoire\n",
    "mot_inconnu = generer_mot_aleatoire.word()\n",
    "mot_à_remplir= ['?' for x in range (len(mot_inconnu))]\n",
    "dico_lettres_positions = lettres_positions(mot_inconnu)\n",
    "\n",
    "def lettres_positions(mot):\n",
    "    dico = {}\n",
    "    for index, lettre in enumerate(mot):\n",
    "        if lettre in dico:\n",
    "            dico[lettre].append(index)  # Ajouter position si lettre déjà dans dico\n",
    "        else:\n",
    "            dico[lettre] = [index]  # Créer une nouvelle liste avec la position\n",
    "    return dico\n",
    "\n",
    "print(lettres_positions(mot_inconnu))"
   ]
  },
  {
   "cell_type": "code",
   "execution_count": 7,
   "metadata": {},
   "outputs": [],
   "source": [
    "####PARTIE DE MATHIS#####\n",
    "\n",
    "import tkinter as tk\n",
    "\n",
    "root = tk.Tk()\n",
    "\n",
    "boutonrestartfin = tk.Button(root,text=\"Et pourquoi pas rejouer\") #boutton en fin de partie A PLACER\n",
    "######################################\n",
    "boutonnouveaumot = tk.Button(root,text=\"Le mot est dur ? Change le ?\")#  A PLACER Mettre une commande avec un input de preferance sur la fenetre voir cours jpense\n",
    "###########################################\n",
    "boutonajoutermot=tk.Button(root,text=\"Participe et ajoute ton mot à notre jeu ! (N'utilise pas d'accent)\")# mettre une commande qui ouvre un input sur la fenetre et en commande le relie aux dico\n",
    "\n",
    "\n",
    "\n",
    "\n"
   ]
  },
  {
   "cell_type": "code",
<<<<<<< HEAD
   "execution_count": 8,
=======
   "execution_count": null,
>>>>>>> 011cd377646410be14eba13ae54798c363621c33
   "metadata": {},
   "outputs": [],
   "source": [
    "######PARTIE DE MARINE#######\n",
    "\n",
<<<<<<< HEAD
    "\n",
=======
    "import tkinter as tk\n",
    "root = tk.Tk()  #Je peux pas tester sans ça, on retirera après :)\n",
>>>>>>> 011cd377646410be14eba13ae54798c363621c33
    "\n",
    "\n",
    "\n",
    "CANVAS_WIDTH, CANVAS_HEIGHT = 600, 500\n",
    "\n",
    "\n",
    "\n",
    "canvas = tk.Canvas(root, width=CANVAS_WIDTH, height=CANVAS_HEIGHT)\n",
    "canvas.pack()  \n",
    "\n",
    "\n",
    "\n",
    "# Structure du pendu\n",
    "\n",
    "# Lignes pour la potence\n",
    "a0 = 100\n",
    "b0 = CANVAS_HEIGHT - 250\n",
    "\n",
    "canvas.create_line(a0, b0, a0 + 100, b0)  # Ligne horizontale\n",
    "canvas.create_line(a0+20, b0, a0 + 20 , b0 - 150)  # Ligne verticale\n",
    "canvas.create_line(a0+20, b0 - 150, a0+70, b0-150)  # Ligne horizontale2\n",
    "canvas.create_line(a0+20, b0 - 120, a0+45, b0-150)  # Ligne diagonale angle \n",
    "\n",
    "\n",
    "\n",
    "#erreurs:\n",
    "\n",
    "#erreur 1: corde \n",
    "canvas.create_line(a0+70, b0-150, a0 + 70 , b0-125)  # Ligne verticale\n",
    "\n",
    "\n",
    "#erreur 2: Cercle pour la tête\n",
    "x0 = 0\n",
    "x1 = CANVAS_WIDTH - 260\n",
    "y = CANVAS_HEIGHT - 365\n",
    "\n",
    "canvas.create_oval((x0 + x1) / 2 - 10, y + 10, (x0 + x1) / 2 + 10, y - 10)\n",
    "\n",
    "\n",
    "#erreur 3: torse\n",
    "canvas.create_line(a0+70, b0-105, a0 + 70 , b0-40)  # torse \n",
    "\n",
    "\n",
    "#erreur 4: bras gauche \n",
    "\n",
    "canvas.create_line(a0+70, b0 - 80, a0+50, b0-101)  # bras gauche \n",
    "\n",
    "\n",
    "#erreur 5: Bras droit\n",
    "\n",
    "canvas.create_line(a0+70, b0 - 80, a0+90, b0-102)  # bras droit\n",
    "\n",
    "#erreur 6: jambe gauche \n",
    "\n",
    "\n",
    "\n",
    "\n",
    "\n",
    "\n",
    "\n",
    "\n",
    "canvas.grid()\n",
    "root.mainloop()\n",
    "\n"
   ]
  },
  {
   "cell_type": "code",
   "execution_count": null,
   "metadata": {},
   "outputs": [],
   "source": []
  }
 ],
 "metadata": {
  "kernelspec": {
   "display_name": "base",
   "language": "python",
   "name": "python3"
  },
  "language_info": {
   "codemirror_mode": {
    "name": "ipython",
    "version": 3
   },
   "file_extension": ".py",
   "mimetype": "text/x-python",
   "name": "python",
   "nbconvert_exporter": "python",
   "pygments_lexer": "ipython3",
   "version": "3.12.3"
  }
 },
 "nbformat": 4,
 "nbformat_minor": 2
}
